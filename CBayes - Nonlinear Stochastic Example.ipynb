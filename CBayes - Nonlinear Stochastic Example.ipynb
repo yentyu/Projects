{
 "cells": [
  {
   "cell_type": "code",
   "execution_count": 154,
   "metadata": {
    "collapsed": true
   },
   "outputs": [],
   "source": [
    "# Imports necessary Packages\n",
    "import matplotlib\n",
    "import numpy as np\n",
    "import scipy as sp\n",
    "\n",
    "# Specific Plotting Packages\n",
    "import matplotlib.pyplot as plt\n",
    "from matplotlib import cm\n",
    "from mpl_toolkits.mplot3d import Axes3D\n",
    "\n",
    "# Specific Stats Packages\n",
    "from scipy.stats import gaussian_kde\n",
    "from scipy.stats import truncexpon\n",
    "from scipy.stats import uniform\n",
    "from scipy.stats import norm\n",
    "from scipy.stats import chi2\n",
    "\n",
    "%matplotlib inline\n",
    "\n",
    "# for Q map\n",
    "from scipy import optimize\n"
   ]
  },
  {
   "cell_type": "markdown",
   "metadata": {},
   "source": [
    "# Thing Exampl\n",
    "\n",
    "Stuff\n"
   ]
  },
  {
   "cell_type": "markdown",
   "metadata": {},
   "source": [
    "## Define Map and Simulate the Data\n",
    "Here we've embedded the stochasticity inside the model map Q. In addition, we create a simulated data set by drawing samples from the \"true\" distribution of lambda 1 and lambda 2 and passing them through the model Q. Since the stochasticity is embedded in the model Q, the error $\\eta$ is not accessible (or saved).\n",
    "\n",
    "In addition, we don't have access to a prior distribution to sample the error term!"
   ]
  },
  {
   "cell_type": "code",
   "execution_count": 227,
   "metadata": {},
   "outputs": [],
   "source": [
    "# Defines the Q Map (including stochastic parameter)\n",
    "def Q(lam1,lam2):\n",
    "    ## input checks\n",
    "    lam1_m = lam1\n",
    "    lam2_m = lam2\n",
    "    \n",
    "    # checks lam1 is numeric and converts to np.ndarray if possible\n",
    "    if lam1!=np.ndarray:\n",
    "        try: lam1_m = np.asarray(lam1)\n",
    "        except ValueError: (\"Couldn't convert to nupmy array! Check that lam1 is a numeric array.\")        \n",
    "    \n",
    "    # checks lam2 is numeric and converts to np.ndarray if possible\n",
    "    if lam2_m!=np.ndarray:\n",
    "        try: lam2_m = np.asarray(lam2)\n",
    "        except ValueError: (\"Couldn't convert to nupmy array! Check that lam1 is a numeric array.\")\n",
    "    \n",
    "    \n",
    "    \n",
    "    # number of values to evaluate QoI\n",
    "    lam1_size = np.size(lam1_m)\n",
    "    lam2_size = np.size(lam2_m)\n",
    "    \n",
    "    ### RANDOM STOCHASTICISTY INTRODUCED\n",
    "    lam1_m = lam1_m + np.random.normal(0,0.5,lam1_size)**2\n",
    "    lam2_m = lam2_m + np.random.normal(0,0.5,lam2_size)**2\n",
    "    \n",
    "    \n",
    "    # Empty QoI vector\n",
    "    q = np.zeros(lam1_size)\n",
    "    \n",
    "    \n",
    "    ### Calculates the QoI for the given lam1 and lam2 values\n",
    "    for i in np.arange(lam1_size):\n",
    "        # sets up nonlinear system for the solver\n",
    "        def G(x):    \n",
    "            # create coefficient matrix of nonlinear system\n",
    "            A = np.reshape([lam1_m.item(i),1,1,-lam2_m.item(i)],(2,2))\n",
    "\n",
    "            # compute matrix-vector multiplication, then subtract 1\n",
    "            return A @ x**2 - 1\n",
    "\n",
    "        # finds the x-coordinates in Q1 that satisfy the model\n",
    "        x = optimize.fsolve(G,[1,1])\n",
    "        \n",
    "        # save QoI\n",
    "        q[i] = x[1] # quantity of interest is second coordinate \n",
    "        \n",
    "    return q"
   ]
  },
  {
   "cell_type": "markdown",
   "metadata": {},
   "source": [
    "Generating the simulated data:"
   ]
  },
  {
   "cell_type": "code",
   "execution_count": 228,
   "metadata": {
    "collapsed": true
   },
   "outputs": [],
   "source": [
    "data_sample_size = 500"
   ]
  },
  {
   "cell_type": "code",
   "execution_count": 229,
   "metadata": {},
   "outputs": [
    {
     "name": "stderr",
     "output_type": "stream",
     "text": [
      "C:\\ProgramData\\Anaconda3\\lib\\site-packages\\ipykernel_launcher.py:8: DeprecationWarning: elementwise != comparison failed; this will raise an error in the future.\n",
      "  \n",
      "C:\\ProgramData\\Anaconda3\\lib\\site-packages\\ipykernel_launcher.py:13: DeprecationWarning: elementwise != comparison failed; this will raise an error in the future.\n",
      "  del sys.path[0]\n",
      "C:\\ProgramData\\Anaconda3\\lib\\site-packages\\scipy\\optimize\\minpack.py:161: RuntimeWarning: The iteration is not making good progress, as measured by the \n",
      "  improvement from the last ten iterations.\n",
      "  warnings.warn(msg, RuntimeWarning)\n",
      "C:\\ProgramData\\Anaconda3\\lib\\site-packages\\scipy\\optimize\\minpack.py:161: RuntimeWarning: The iteration is not making good progress, as measured by the \n",
      "  improvement from the last five Jacobian evaluations.\n",
      "  warnings.warn(msg, RuntimeWarning)\n"
     ]
    }
   ],
   "source": [
    "# generate data\n",
    "# simulate data by sampling uniforms \n",
    "lam1_data = uniform.rvs(0.5,0.5,data_sample_size)\n",
    "lam2_data = uniform.rvs(0.75,0.5,data_sample_size)\n",
    "\n",
    "# simulated QoI data from data variable samples\n",
    "q_data = Q(lam1_data,lam2_data)\n",
    "\n",
    "# calculate a gaussian kde for data\n",
    "data_kde_pdf = gaussian_kde(q_data)"
   ]
  },
  {
   "cell_type": "markdown",
   "metadata": {},
   "source": [
    "Reasonability check:"
   ]
  },
  {
   "cell_type": "code",
   "execution_count": 230,
   "metadata": {},
   "outputs": [
    {
     "data": {
      "text/plain": [
       "[<matplotlib.lines.Line2D at 0x227126a46a0>]"
      ]
     },
     "execution_count": 230,
     "metadata": {},
     "output_type": "execute_result"
    },
    {
     "data": {
      "image/png": "[encoded data removed]",
      "text/plain": [
       "<matplotlib.figure.Figure at 0x2271275e550>"
      ]
     },
     "metadata": {},
     "output_type": "display_data"
    }
   ],
   "source": [
    "# check that the KDE is reasonable for the q_data\n",
    "q_values = np.linspace(-0.1,0.75,100) # plot pdf for these \"x-values\"\n",
    "\n",
    "# check that the simulation makes sense by plotting!\n",
    "f, (ax1, ax2, ax3) = plt.subplots(1, 3)\n",
    "f.set_figwidth(14)\n",
    "\n",
    "# Comparison of exact pdf vs. density\n",
    "ax1.set_title('Histogram: Lambda 1 (\"Actual\")')\n",
    "ax1.hist(lam1_data, density=True)\n",
    "ax2.set_title('Histogram: Lambda 2 (\"Actual\")')\n",
    "ax2.hist(lam2_data, density=True)\n",
    "\n",
    "# histogram of data\n",
    "ax3.set_title(\"Histogram of Data (QoI) and KDE of QoI\")\n",
    "ax3.hist(q_data, density=True) \n",
    "ax3.plot(q_values,data_kde_pdf(q_values))"
   ]
  },
  {
   "cell_type": "markdown",
   "metadata": {},
   "source": [
    "## Solve for $\\lambda_1$ and $\\lambda_2$ Using Consistent Bayes\n",
    "Now that we have the dataset and a model for our simulation, we attempt to construct a solution distribution for the consistent Bayes method using the Accept-Reject paradigm.\n",
    "\n",
    "The purpose of using the paradigm in this example is to show how we **may not even need to assume a prior on the stochastic term** to calculate the distribution of $\\lambda_1$ and $\\lambda_2$!\n"
   ]
  },
  {
   "cell_type": "markdown",
   "metadata": {},
   "source": [
    "### Construct the Push-Forward KDE\n",
    "We construct the push-forward KDE for the denominator of the consistent baye's ratio by sampling the prior. Note that we don't need to sample a prior for our stochastic error term because it is embedded in the calculation of the map $Q$!"
   ]
  },
  {
   "cell_type": "code",
   "execution_count": 231,
   "metadata": {
    "collapsed": true
   },
   "outputs": [],
   "source": [
    "# defines prior class objects using scipy package (imported at the top)\n",
    "# use \"rvs\" method to generate samples from these objects\n",
    "# use \"pdf\" method to evaluate the pdf at a given value\n",
    "lam1_prior = uniform(0.5,0.5)\n",
    "lam2_prior = uniform(0.75,0.5)\n"
   ]
  },
  {
   "cell_type": "code",
   "execution_count": 232,
   "metadata": {},
   "outputs": [],
   "source": [
    "# generate a sample from our PRIOR pdfs\n",
    "lam1_sample_prior = lam1_prior.rvs(1000)\n",
    "lam2_sample_prior = lam2_prior.rvs(1000)\n"
   ]
  },
  {
   "cell_type": "code",
   "execution_count": 233,
   "metadata": {},
   "outputs": [
    {
     "name": "stderr",
     "output_type": "stream",
     "text": [
      "C:\\ProgramData\\Anaconda3\\lib\\site-packages\\ipykernel_launcher.py:8: DeprecationWarning: elementwise != comparison failed; this will raise an error in the future.\n",
      "  \n",
      "C:\\ProgramData\\Anaconda3\\lib\\site-packages\\ipykernel_launcher.py:13: DeprecationWarning: elementwise != comparison failed; this will raise an error in the future.\n",
      "  del sys.path[0]\n",
      "C:\\ProgramData\\Anaconda3\\lib\\site-packages\\scipy\\optimize\\minpack.py:161: RuntimeWarning: The iteration is not making good progress, as measured by the \n",
      "  improvement from the last five Jacobian evaluations.\n",
      "  warnings.warn(msg, RuntimeWarning)\n",
      "C:\\ProgramData\\Anaconda3\\lib\\site-packages\\scipy\\optimize\\minpack.py:161: RuntimeWarning: The iteration is not making good progress, as measured by the \n",
      "  improvement from the last ten iterations.\n",
      "  warnings.warn(msg, RuntimeWarning)\n"
     ]
    }
   ],
   "source": [
    "q_sample_prior = Q(lam1_sample_prior,lam2_sample_prior)"
   ]
  },
  {
   "cell_type": "code",
   "execution_count": 234,
   "metadata": {},
   "outputs": [
    {
     "data": {
      "text/plain": [
       "[<matplotlib.lines.Line2D at 0x2271279d3c8>]"
      ]
     },
     "execution_count": 234,
     "metadata": {},
     "output_type": "execute_result"
    },
    {
     "data": {
      "image/png": "[encoded data removed]",
      "text/plain": [
       "<matplotlib.figure.Figure at 0x22712615ef0>"
      ]
     },
     "metadata": {},
     "output_type": "display_data"
    }
   ],
   "source": [
    "# calculate a gaussian kde for the push-forward of the sampled priors\n",
    "push_forward_kde_pdf = gaussian_kde(q_sample_prior)\n",
    "\n",
    "# sanity check: Is push-forward KDE close to what we expect?\n",
    "q_values = np.linspace(-0.1,0.75,100) # plot pdf for these \"x-values\"\n",
    "\n",
    "plt.title(\"Push-Forward KDE from Sampled Priors\")\n",
    "plt.hist(q_sample_prior, density=True) # histogram of data\n",
    "plt.plot(q_values,push_forward_kde_pdf(q_values)) # plot of KDE\n",
    "\n",
    "plt.plot(q_values,data_kde_pdf(q_values)) # this is the data KDE compared to the push forward"
   ]
  },
  {
   "cell_type": "markdown",
   "metadata": {},
   "source": [
    "### Use Accept-Reject to Generate Posterior Samples"
   ]
  },
  {
   "cell_type": "code",
   "execution_count": 235,
   "metadata": {},
   "outputs": [
    {
     "name": "stdout",
     "output_type": "stream",
     "text": [
      "(598,)\n"
     ]
    }
   ],
   "source": [
    "# calculate maximum of the ratio\n",
    "M = np.max(data_kde_pdf(q_sample_prior)/push_forward_kde_pdf(q_sample_prior))\n",
    "\n",
    "# generate random numbers from uniform for accept-reject for each sample value\n",
    "test_value = np.random.uniform(0,1,np.shape(q_sample_prior))\n",
    "\n",
    "# calculate the ratio for accept reject: data_kde/push_kde/M and compare to test sample\n",
    "# is the kde ratio > test value?\n",
    "accept_or_reject_samples = np.greater(data_kde_pdf(q_sample_prior)/push_forward_kde_pdf(q_sample_prior)/M,\n",
    "                            test_value)\n",
    "\n",
    "# accepted values of posterior sample\n",
    "posterior_lam1_sample = lam1_sample_prior[accept_or_reject_samples]\n",
    "posterior_lam2_sample = lam2_sample_prior[accept_or_reject_samples]\n",
    "\n",
    "print(np.shape(posterior_lam1_sample))\n"
   ]
  },
  {
   "cell_type": "markdown",
   "metadata": {},
   "source": [
    "We check to make sure the posterior samples are reasonable by plotting the posterior samples of $\\lambda_1$ and $\\lambda_2$."
   ]
  },
  {
   "cell_type": "code",
   "execution_count": 236,
   "metadata": {},
   "outputs": [
    {
     "name": "stderr",
     "output_type": "stream",
     "text": [
      "C:\\ProgramData\\Anaconda3\\lib\\site-packages\\ipykernel_launcher.py:8: DeprecationWarning: elementwise != comparison failed; this will raise an error in the future.\n",
      "  \n",
      "C:\\ProgramData\\Anaconda3\\lib\\site-packages\\ipykernel_launcher.py:13: DeprecationWarning: elementwise != comparison failed; this will raise an error in the future.\n",
      "  del sys.path[0]\n",
      "C:\\ProgramData\\Anaconda3\\lib\\site-packages\\scipy\\optimize\\minpack.py:161: RuntimeWarning: The iteration is not making good progress, as measured by the \n",
      "  improvement from the last ten iterations.\n",
      "  warnings.warn(msg, RuntimeWarning)\n",
      "C:\\ProgramData\\Anaconda3\\lib\\site-packages\\scipy\\optimize\\minpack.py:161: RuntimeWarning: The iteration is not making good progress, as measured by the \n",
      "  improvement from the last five Jacobian evaluations.\n",
      "  warnings.warn(msg, RuntimeWarning)\n"
     ]
    },
    {
     "data": {
      "text/plain": [
       "(array([ 6.96784648,  0.87943693,  0.98091043,  1.18385741,  1.21768191,\n",
       "         1.48827789,  1.75887387,  0.98091043,  1.01473492,  0.43971847]),\n",
       " array([-0.00256269,  0.05656605,  0.11569479,  0.17482354,  0.23395228,\n",
       "         0.29308102,  0.35220976,  0.41133851,  0.47046725,  0.52959599,\n",
       "         0.58872473]),\n",
       " <a list of 10 Patch objects>)"
      ]
     },
     "execution_count": 236,
     "metadata": {},
     "output_type": "execute_result"
    },
    {
     "data": {
      "image/png": "[encoded data removed]",
      "text/plain": [
       "<matplotlib.figure.Figure at 0x227128deeb8>"
      ]
     },
     "metadata": {},
     "output_type": "display_data"
    }
   ],
   "source": [
    "# this is the push forward of the posterior samples\n",
    "push_forward_posterior_samples = Q(posterior_lam1_sample,posterior_lam2_sample)\n",
    "\n",
    "# check that the simulation makes sense by plotting!\n",
    "f, (ax1, ax2, ax3) = plt.subplots(1, 3)\n",
    "f.set_figwidth(14)\n",
    "# Comparison of exact pdf vs. density\n",
    "ax1.set_title('Histogram: Lambda 1 Posterior')\n",
    "ax1.hist(posterior_lam1_sample, density=True)\n",
    "ax2.set_title('Histogram: Lambda 2 Posterior')\n",
    "ax2.hist(posterior_lam2_sample, density=True)\n",
    "\n",
    "ax3.set_title('Histogram: Posterior Push-Forward vs. \"Actual\"')\n",
    "ax3.hist(push_forward_posterior_samples, density=True)\n",
    "ax3.hist(q_data, density=True)"
   ]
  },
  {
   "cell_type": "markdown",
   "metadata": {},
   "source": [
    "The graphs above show that our posterior sample is doing a decent job at reproducing our original \"true\" distributions."
   ]
  },
  {
   "cell_type": "markdown",
   "metadata": {},
   "source": [
    "## How sensitive is this kind of modeling to different priors?"
   ]
  },
  {
   "cell_type": "code",
   "execution_count": null,
   "metadata": {
    "collapsed": true
   },
   "outputs": [],
   "source": []
  }
 ],
 "metadata": {
  "kernelspec": {
   "display_name": "Python 3",
   "language": "python",
   "name": "python3"
  },
  "language_info": {
   "codemirror_mode": {
    "name": "ipython",
    "version": 3
   },
   "file_extension": ".py",
   "mimetype": "text/x-python",
   "name": "python",
   "nbconvert_exporter": "python",
   "pygments_lexer": "ipython3",
   "version": "3.6.3"
  }
 },
 "nbformat": 4,
 "nbformat_minor": 2
}
